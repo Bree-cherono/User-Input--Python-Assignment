{
 "cells": [
  {
   "cell_type": "markdown",
   "id": "de3cc975",
   "metadata": {},
   "source": [
    "# User Input\n",
    "\n",
    "\n"
   ]
  },
  {
   "cell_type": "code",
   "execution_count": 10,
   "id": "dc807470",
   "metadata": {},
   "outputs": [
    {
     "name": "stdout",
     "output_type": "stream",
     "text": [
      "What is your name? Brenda\n"
     ]
    }
   ],
   "source": [
    "# Ask for the user's name\n",
    "name = input(\"What is your name? \")\n"
   ]
  },
  {
   "cell_type": "code",
   "execution_count": 11,
   "id": "0e9b8c90",
   "metadata": {},
   "outputs": [
    {
     "name": "stdout",
     "output_type": "stream",
     "text": [
      "How old are you? 25 years old \n"
     ]
    }
   ],
   "source": [
    "# Ask for the user's age\n",
    "age = input(\"How old are you? \")"
   ]
  },
  {
   "cell_type": "code",
   "execution_count": 12,
   "id": "b4586194",
   "metadata": {},
   "outputs": [
    {
     "name": "stdout",
     "output_type": "stream",
     "text": [
      "Where do you live? Nairobi\n"
     ]
    }
   ],
   "source": [
    "# user's location\n",
    "location = input(\"Where do you live? \")"
   ]
  },
  {
   "cell_type": "code",
   "execution_count": 13,
   "id": "ac4fefe5",
   "metadata": {},
   "outputs": [
    {
     "name": "stdout",
     "output_type": "stream",
     "text": [
      "Hello Brenda , you are 25 years old and live in Nairobi .\n"
     ]
    }
   ],
   "source": [
    "# Print out a personalized message\n",
    "print(f\"Hello Brenda , you are 25 years old and live in Nairobi .\")"
   ]
  },
  {
   "cell_type": "code",
   "execution_count": null,
   "id": "78e27714",
   "metadata": {},
   "outputs": [],
   "source": []
  },
  {
   "cell_type": "code",
   "execution_count": null,
   "id": "b9a24719",
   "metadata": {},
   "outputs": [],
   "source": []
  },
  {
   "cell_type": "code",
   "execution_count": null,
   "id": "6e977398",
   "metadata": {},
   "outputs": [],
   "source": []
  },
  {
   "cell_type": "code",
   "execution_count": null,
   "id": "de078644",
   "metadata": {},
   "outputs": [],
   "source": []
  }
 ],
 "metadata": {
  "kernelspec": {
   "display_name": "Python 3 (ipykernel)",
   "language": "python",
   "name": "python3"
  },
  "language_info": {
   "codemirror_mode": {
    "name": "ipython",
    "version": 3
   },
   "file_extension": ".py",
   "mimetype": "text/x-python",
   "name": "python",
   "nbconvert_exporter": "python",
   "pygments_lexer": "ipython3",
   "version": "3.11.5"
  }
 },
 "nbformat": 4,
 "nbformat_minor": 5
}
